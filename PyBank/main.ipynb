import os
import csv
budget_data = os.path.join("/Users/mihneaasandului/Downloads/Starter_Code-4/PyBank/Resources/budget_data.csv")

# open and read csv

with open(budget_data, newline="") as csv file:
    csvreader = csv.reader(csvfile, delimiter=",")
    csv_header = next(csvfile)
    print(f"Header: {csv_header}")

# find net amount of profit and loss

P =[]
months=[]

#read through each row of data after header

for rows in csvreader:
    P.append(int(rows[1]))
    months.append(rows[0])

revenue_change =[]

for x in range(1, len(P)):
    revenue_change.append((int(P[x]) - int(P[x-1])))
revenue_average = sum(revenue_change) / len(revenue_change)

    total_months = len(months)

    greatest_increase = max(revenue_change)
    greatest_decrease = min(revenue_change)

print("Financial Analysis")

print("..................................")

print("Total months:" + str(total_months))

print("Total" + "$" + str(sum(P)))
